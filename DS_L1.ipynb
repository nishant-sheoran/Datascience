{
  "nbformat": 4,
  "nbformat_minor": 0,
  "metadata": {
    "colab": {
      "provenance": [],
      "authorship_tag": "ABX9TyMwyPTyMyhh6pzh94RTfspA",
      "include_colab_link": true
    },
    "kernelspec": {
      "name": "python3",
      "display_name": "Python 3"
    },
    "language_info": {
      "name": "python"
    }
  },
  "cells": [
    {
      "cell_type": "markdown",
      "metadata": {
        "id": "view-in-github",
        "colab_type": "text"
      },
      "source": [
        "<a href=\"https://colab.research.google.com/github/nishant-sheoran/Datascience/blob/main/DS_L1.ipynb\" target=\"_parent\"><img src=\"https://colab.research.google.com/assets/colab-badge.svg\" alt=\"Open In Colab\"/></a>"
      ]
    },
    {
      "cell_type": "markdown",
      "source": [
        "##Numpy"
      ],
      "metadata": {
        "id": "Dz3gGItkLb10"
      }
    },
    {
      "cell_type": "code",
      "execution_count": 19,
      "metadata": {
        "colab": {
          "base_uri": "https://localhost:8080/",
          "height": 35
        },
        "id": "W0Qmzac-LVjc",
        "outputId": "666a5c32-998b-484d-f9fc-4cd2cb612544"
      },
      "outputs": [
        {
          "output_type": "execute_result",
          "data": {
            "text/plain": [
              "'1.26.4'"
            ],
            "application/vnd.google.colaboratory.intrinsic+json": {
              "type": "string"
            }
          },
          "metadata": {},
          "execution_count": 19
        }
      ],
      "source": [
        "import numpy as np\n",
        "np.__version__"
      ]
    },
    {
      "cell_type": "code",
      "source": [
        "range_array = np.arange(1,10,2)\n",
        "print(range_array)\n",
        "\n",
        "linspace_array = np.linspace(1,10,5)\n",
        "print(linspace_array)\n",
        "\n",
        "random_array = np.random.rand(3,3)\n",
        "print(random_array)"
      ],
      "metadata": {
        "colab": {
          "base_uri": "https://localhost:8080/"
        },
        "id": "rl37rU8QLo_S",
        "outputId": "52ee385c-9e98-4271-da13-2395fa86ecee"
      },
      "execution_count": 18,
      "outputs": [
        {
          "output_type": "stream",
          "name": "stdout",
          "text": [
            "[1 3 5 7 9]\n",
            "[ 1.    3.25  5.5   7.75 10.  ]\n",
            "[[0.48087075 0.09419013 0.63210426]\n",
            " [0.93809333 0.62865679 0.60755154]\n",
            " [0.16772576 0.27485349 0.05760167]]\n"
          ]
        }
      ]
    },
    {
      "cell_type": "code",
      "source": [
        "arr = np.array([[1,2,3],[4,5,6],[7,8,9]])\n",
        "print(\"Dimensions:\", arr.ndim)\n",
        "print(\"Shape:\", arr.shape)\n",
        "print(\"Size:\", arr.size)\n",
        "print(\"Data Type:\", arr.dtype)"
      ],
      "metadata": {
        "colab": {
          "base_uri": "https://localhost:8080/"
        },
        "id": "7HOnWcjDL7Ml",
        "outputId": "0fba97e1-a60b-4b3c-a164-8f6ec479e41d"
      },
      "execution_count": 4,
      "outputs": [
        {
          "output_type": "stream",
          "name": "stdout",
          "text": [
            "Dimensions: 2\n",
            "Shape: (3, 3)\n",
            "Size: 9\n",
            "Data Type: int64\n"
          ]
        }
      ]
    },
    {
      "cell_type": "markdown",
      "source": [
        "array joining: np.concat"
      ],
      "metadata": {
        "id": "Ag1dfh-5MLC5"
      }
    },
    {
      "cell_type": "code",
      "source": [
        "arr1 = np.array([1, 2])\n",
        "arr2 = np.array([3, 4])\n",
        "arr = np.concatenate((arr1, arr2))\n",
        "print(arr)"
      ],
      "metadata": {
        "colab": {
          "base_uri": "https://localhost:8080/"
        },
        "id": "0HKJa7xsMOi4",
        "outputId": "3066014c-8fb4-44c2-fca6-4cf8a13a6128"
      },
      "execution_count": 5,
      "outputs": [
        {
          "output_type": "stream",
          "name": "stdout",
          "text": [
            "[1 2 3 4]\n"
          ]
        }
      ]
    },
    {
      "cell_type": "code",
      "source": [
        "arr = np.array([1, 2, 3, 4, 5, 6])\n",
        "newarr = np.array_split(arr, 3)\n",
        "print(newarr)"
      ],
      "metadata": {
        "colab": {
          "base_uri": "https://localhost:8080/"
        },
        "id": "8YPOOjR3MVm8",
        "outputId": "d1f774fb-2f12-4061-edd1-cfcf6e1a5091"
      },
      "execution_count": 6,
      "outputs": [
        {
          "output_type": "stream",
          "name": "stdout",
          "text": [
            "[array([1, 2]), array([3, 4]), array([5, 6])]\n"
          ]
        }
      ]
    },
    {
      "cell_type": "markdown",
      "source": [
        "Searhing: np.where"
      ],
      "metadata": {
        "id": "CHgC_rJ5Mb9z"
      }
    },
    {
      "cell_type": "code",
      "source": [
        "arr = np.array([1, 2, 3, 4, 5, 4, 4])\n",
        "x = np.where(arr == 4)\n",
        "print(x)"
      ],
      "metadata": {
        "colab": {
          "base_uri": "https://localhost:8080/"
        },
        "id": "T6vDamcrMawE",
        "outputId": "431ddbf9-27b5-4c35-bc4c-4c1df0f3d0a0"
      },
      "execution_count": 7,
      "outputs": [
        {
          "output_type": "stream",
          "name": "stdout",
          "text": [
            "(array([3, 5, 6]),)\n"
          ]
        }
      ]
    },
    {
      "cell_type": "markdown",
      "source": [
        "Sorting: np.sort"
      ],
      "metadata": {
        "id": "nhXifUBAMniL"
      }
    },
    {
      "cell_type": "code",
      "source": [
        "arr = np.array([3, 2, 0, 1])\n",
        "print(np.sort(arr))"
      ],
      "metadata": {
        "colab": {
          "base_uri": "https://localhost:8080/"
        },
        "id": "j_cBh4LiMnEa",
        "outputId": "3bbd4f26-1ea2-4a4f-d7d9-3e239db62011"
      },
      "execution_count": 8,
      "outputs": [
        {
          "output_type": "stream",
          "name": "stdout",
          "text": [
            "[0 1 2 3]\n"
          ]
        }
      ]
    },
    {
      "cell_type": "markdown",
      "source": [
        "iterating through the array"
      ],
      "metadata": {
        "id": "fpBQklmUM3-6"
      }
    },
    {
      "cell_type": "code",
      "source": [
        "arr = np.array([1, 2, 3])\n",
        "for x in arr:\n",
        "  print(x)"
      ],
      "metadata": {
        "colab": {
          "base_uri": "https://localhost:8080/"
        },
        "id": "t_joDKDGNFzH",
        "outputId": "0f543aba-1104-4cb8-800c-6db5377094c7"
      },
      "execution_count": 9,
      "outputs": [
        {
          "output_type": "stream",
          "name": "stdout",
          "text": [
            "1\n",
            "2\n",
            "3\n"
          ]
        }
      ]
    },
    {
      "cell_type": "markdown",
      "source": [
        "Copying an Array"
      ],
      "metadata": {
        "id": "85UkrXQWNKMj"
      }
    },
    {
      "cell_type": "code",
      "source": [
        "#Deep copy\n",
        "arr = np.array([1, 2, 3, 4, 5])\n",
        "x = arr.copy()\n",
        "arr[0] = 42\n",
        "\n",
        "print(arr)\n",
        "print(x)"
      ],
      "metadata": {
        "colab": {
          "base_uri": "https://localhost:8080/"
        },
        "id": "kZ85fwfQNObx",
        "outputId": "ead767c0-507e-458a-ebbd-880d14976e1f"
      },
      "execution_count": 10,
      "outputs": [
        {
          "output_type": "stream",
          "name": "stdout",
          "text": [
            "[42  2  3  4  5]\n",
            "[1 2 3 4 5]\n"
          ]
        }
      ]
    },
    {
      "cell_type": "code",
      "source": [
        "#Shallow Copy\n",
        "arr = np.array([1, 2, 3, 4, 5])\n",
        "x = arr.view()\n",
        "arr[0] = 42\n",
        "\n",
        "print(arr)\n",
        "print(x)"
      ],
      "metadata": {
        "colab": {
          "base_uri": "https://localhost:8080/"
        },
        "id": "7CiNlWzdNUaZ",
        "outputId": "448760d8-e504-4014-d04a-63d674a87c03"
      },
      "execution_count": 11,
      "outputs": [
        {
          "output_type": "stream",
          "name": "stdout",
          "text": [
            "[42  2  3  4  5]\n",
            "[42  2  3  4  5]\n"
          ]
        }
      ]
    },
    {
      "cell_type": "markdown",
      "source": [
        "Array Shape manipulation"
      ],
      "metadata": {
        "id": "3o4zV-_SNjAY"
      }
    },
    {
      "cell_type": "code",
      "source": [
        "#reshape()\n",
        "arr = np.array([1, 2, 3, 4, 5, 6, 7, 8, 9, 10, 11, 12])\n",
        "newarr = arr.reshape(4, 3)\n",
        "print(newarr)"
      ],
      "metadata": {
        "colab": {
          "base_uri": "https://localhost:8080/"
        },
        "id": "LpvxaLU9NlG5",
        "outputId": "1cd6fa78-2648-437a-bfcc-b4f9f89549fa"
      },
      "execution_count": 12,
      "outputs": [
        {
          "output_type": "stream",
          "name": "stdout",
          "text": [
            "[[ 1  2  3]\n",
            " [ 4  5  6]\n",
            " [ 7  8  9]\n",
            " [10 11 12]]\n"
          ]
        }
      ]
    },
    {
      "cell_type": "code",
      "source": [
        "#flatten\n",
        "arr = np.array([[1, 2, 3], [4, 5, 6]])\n",
        "newarr = arr.flatten()\n",
        "print(newarr)"
      ],
      "metadata": {
        "colab": {
          "base_uri": "https://localhost:8080/"
        },
        "id": "RWBHWrONNr24",
        "outputId": "c904ab14-b472-4326-f1f5-b9fb25875596"
      },
      "execution_count": 13,
      "outputs": [
        {
          "output_type": "stream",
          "name": "stdout",
          "text": [
            "[1 2 3 4 5 6]\n"
          ]
        }
      ]
    },
    {
      "cell_type": "code",
      "source": [
        "#identity array\n",
        "arr = np.identity(3)\n",
        "print(arr)"
      ],
      "metadata": {
        "colab": {
          "base_uri": "https://localhost:8080/"
        },
        "id": "MHrIch1VNycy",
        "outputId": "442bbdf0-ecac-4d36-8085-3b738a57d8a5"
      },
      "execution_count": 14,
      "outputs": [
        {
          "output_type": "stream",
          "name": "stdout",
          "text": [
            "[[1. 0. 0.]\n",
            " [0. 1. 0.]\n",
            " [0. 0. 1.]]\n"
          ]
        }
      ]
    },
    {
      "cell_type": "code",
      "source": [
        "#eye function\n",
        "arr = np.eye(3, 3, k = -1)\n",
        "print(arr)"
      ],
      "metadata": {
        "colab": {
          "base_uri": "https://localhost:8080/"
        },
        "id": "MGJG_xNuN1t8",
        "outputId": "8a7fd3cf-620d-486f-8e83-219bf73b9d83"
      },
      "execution_count": 16,
      "outputs": [
        {
          "output_type": "stream",
          "name": "stdout",
          "text": [
            "[[0. 0. 0.]\n",
            " [1. 0. 0.]\n",
            " [0. 1. 0.]]\n"
          ]
        }
      ]
    },
    {
      "cell_type": "markdown",
      "source": [
        "##Excercise 1 | Numpy"
      ],
      "metadata": {
        "id": "cbh8AZSJPRme"
      }
    },
    {
      "cell_type": "code",
      "source": [
        "# Ex1\n",
        "import numpy as np\n",
        "np.__version__"
      ],
      "metadata": {
        "colab": {
          "base_uri": "https://localhost:8080/",
          "height": 35
        },
        "id": "N94tRCCIPW47",
        "outputId": "1e3a4527-0f38-4495-d706-097185330b71"
      },
      "execution_count": 20,
      "outputs": [
        {
          "output_type": "execute_result",
          "data": {
            "text/plain": [
              "'1.26.4'"
            ],
            "application/vnd.google.colaboratory.intrinsic+json": {
              "type": "string"
            }
          },
          "metadata": {},
          "execution_count": 20
        }
      ]
    },
    {
      "cell_type": "code",
      "source": [
        "# Ex2  1D array\n",
        "one_d_array = np.array([1, 2, 3, 4, 5])\n",
        "print(one_d_array)"
      ],
      "metadata": {
        "colab": {
          "base_uri": "https://localhost:8080/"
        },
        "id": "1HsAQZp1Pp1A",
        "outputId": "43bddcf1-bcee-42b5-8c86-c58998ec5031"
      },
      "execution_count": 21,
      "outputs": [
        {
          "output_type": "stream",
          "name": "stdout",
          "text": [
            "[1 2 3 4 5]\n"
          ]
        }
      ]
    },
    {
      "cell_type": "code",
      "source": [
        "# Ex3 bool array\n",
        "bool_arr = np.array([True, False, True, False, True])\n",
        "print(bool_arr)\n",
        "\n",
        "# Boolean Array from a numerical array using a condition\n",
        "num_arr = np.array([1, 2, 3, 4, 5])\n",
        "bool_arr_from_num = num_arr > 2\n",
        "print(bool_arr_from_num)"
      ],
      "metadata": {
        "colab": {
          "base_uri": "https://localhost:8080/"
        },
        "id": "smKVck3xQFEA",
        "outputId": "ec6e2e70-ae79-4ab9-bd29-6e6861d4da9d"
      },
      "execution_count": 23,
      "outputs": [
        {
          "output_type": "stream",
          "name": "stdout",
          "text": [
            "[ True False  True False  True]\n",
            "[False False  True  True  True]\n"
          ]
        }
      ]
    },
    {
      "cell_type": "code",
      "source": [
        "# Exercise 4: Extract items that satisfy a condition\n",
        "arr = np.array([1, 2, 3, 4, 5, 6, 7, 8, 9, 10])\n",
        "condition = arr % 2 == 0  # Even numbers\n",
        "even_numbers = arr[condition]\n",
        "print(\"Even numbers:\", even_numbers)"
      ],
      "metadata": {
        "colab": {
          "base_uri": "https://localhost:8080/"
        },
        "id": "-_z1_prMQgMW",
        "outputId": "b0996c8e-5654-432d-c6b1-41fc01e990e9"
      },
      "execution_count": 24,
      "outputs": [
        {
          "output_type": "stream",
          "name": "stdout",
          "text": [
            "Even numbers: [ 2  4  6  8 10]\n",
            "Array with even numbers replaced by 0: [1 0 3 0 5 0 7 0 9 0]\n",
            "Original array: [ 1  2  3  4  5  6  7  8  9 10]\n",
            "New array with even numbers replaced by 0: [1 0 3 0 5 0 7 0 9 0]\n",
            "Reshaped array:\n",
            " [[ 0  1  2  3]\n",
            " [ 4  5  6  7]\n",
            " [ 8  9 10 11]]\n",
            "Vertical stack:\n",
            " [[1 2 3]\n",
            " [4 5 6]]\n",
            "Horizontal stack: [1 2 3 4 5 6]\n",
            "Fibonacci sequence: [ 0  1  1  2  3  5  8 13 21 34]\n"
          ]
        }
      ]
    },
    {
      "cell_type": "code",
      "source": [
        "# Exercise 5: Replace items that satisfy a condition\n",
        "arr = np.array([1, 2, 3, 4, 5, 6, 7, 8, 9, 10])\n",
        "arr[arr % 2 == 0] = 0  # Replace even numbers with 0\n",
        "print(\"Array with even numbers replaced by 0:\", arr)"
      ],
      "metadata": {
        "colab": {
          "base_uri": "https://localhost:8080/"
        },
        "id": "sJ-DbepWQ5V_",
        "outputId": "fc2b305a-dcc4-443f-907a-3de2f3b1c4f3"
      },
      "execution_count": 25,
      "outputs": [
        {
          "output_type": "stream",
          "name": "stdout",
          "text": [
            "Array with even numbers replaced by 0: [1 0 3 0 5 0 7 0 9 0]\n"
          ]
        }
      ]
    },
    {
      "cell_type": "code",
      "source": [
        "# Exercise 6: Replace items that satisfy a condition without affecting the original array\n",
        "arr = np.array([1, 2, 3, 4, 5, 6, 7, 8, 9, 10])\n",
        "new_arr = np.where(arr % 2 == 0, 0, arr)  # Replace even numbers with 0 in a new array\n",
        "print(\"Original array:\", arr)\n",
        "print(\"New array with even numbers replaced by 0:\", new_arr)"
      ],
      "metadata": {
        "colab": {
          "base_uri": "https://localhost:8080/"
        },
        "id": "fH0-htI9Q8FU",
        "outputId": "3898962e-9510-4d2c-8c96-125fb370a29a"
      },
      "execution_count": 26,
      "outputs": [
        {
          "output_type": "stream",
          "name": "stdout",
          "text": [
            "Original array: [ 1  2  3  4  5  6  7  8  9 10]\n",
            "New array with even numbers replaced by 0: [1 0 3 0 5 0 7 0 9 0]\n"
          ]
        }
      ]
    },
    {
      "cell_type": "code",
      "source": [
        "# Exercise 7: Reshape an array\n",
        "arr = np.arange(12)\n",
        "reshaped_arr = arr.reshape(3, 4)\n",
        "print(\"Reshaped array:\\n\", reshaped_arr)"
      ],
      "metadata": {
        "colab": {
          "base_uri": "https://localhost:8080/"
        },
        "id": "dVkFpBa-RAJR",
        "outputId": "bb39036f-0f4a-453f-e9dc-28839e6bfeeb"
      },
      "execution_count": 27,
      "outputs": [
        {
          "output_type": "stream",
          "name": "stdout",
          "text": [
            "Reshaped array:\n",
            " [[ 0  1  2  3]\n",
            " [ 4  5  6  7]\n",
            " [ 8  9 10 11]]\n"
          ]
        }
      ]
    },
    {
      "cell_type": "code",
      "source": [
        "# Exercise 8: Stack two arrays vertically\n",
        "arr1 = np.array([1, 2, 3])\n",
        "arr2 = np.array([4, 5, 6])\n",
        "vertical_stack = np.vstack((arr1, arr2))\n",
        "print(\"Vertical stack:\\n\", vertical_stack)"
      ],
      "metadata": {
        "colab": {
          "base_uri": "https://localhost:8080/"
        },
        "id": "yRbcKlstRDLe",
        "outputId": "6df43113-e792-4f98-ab84-1972e7229d70"
      },
      "execution_count": 28,
      "outputs": [
        {
          "output_type": "stream",
          "name": "stdout",
          "text": [
            "Vertical stack:\n",
            " [[1 2 3]\n",
            " [4 5 6]]\n"
          ]
        }
      ]
    },
    {
      "cell_type": "code",
      "source": [
        "# Exercise 9: Stack two arrays horizontally\n",
        "horizontal_stack = np.hstack((arr1, arr2))\n",
        "print(\"Horizontal stack:\", horizontal_stack)"
      ],
      "metadata": {
        "colab": {
          "base_uri": "https://localhost:8080/"
        },
        "id": "fBa3IPtBRGiH",
        "outputId": "bda58f5f-be95-4230-d6b2-56214b64573b"
      },
      "execution_count": 29,
      "outputs": [
        {
          "output_type": "stream",
          "name": "stdout",
          "text": [
            "Horizontal stack: [1 2 3 4 5 6]\n"
          ]
        }
      ]
    },
    {
      "cell_type": "code",
      "source": [
        "# Exercise 10: Generate custom sequences without hardcoding\n",
        "# Why this works as an answer to this question is because the values of the fibonoacci series are not hardcoded and changes in the values of n changes the output !\n",
        "def fibonacci(n):\n",
        "    fib_sequence = np.zeros(n, dtype=int)\n",
        "    fib_sequence[0] = 0\n",
        "    fib_sequence[1] = 1\n",
        "    for i in range(2, n):\n",
        "        fib_sequence[i] = fib_sequence[i-1] + fib_sequence[i-2]\n",
        "    return fib_sequence\n",
        "fib_seq = fibonacci(10)\n",
        "print(\"Fibonacci sequence:\", fib_seq)"
      ],
      "metadata": {
        "colab": {
          "base_uri": "https://localhost:8080/"
        },
        "id": "8DtWFczmRJAD",
        "outputId": "7feab8fc-7058-4524-80e7-055279bf9b03"
      },
      "execution_count": 31,
      "outputs": [
        {
          "output_type": "stream",
          "name": "stdout",
          "text": [
            "Fibonacci sequence: [ 0  1  1  2  3  5  8 13 21 34]\n"
          ]
        }
      ]
    },
    {
      "cell_type": "markdown",
      "source": [
        "##Pandas Prac"
      ],
      "metadata": {
        "id": "v_7qrRH0SWlR"
      }
    },
    {
      "cell_type": "code",
      "source": [
        "import pandas as pd\n",
        "pd.__version__"
      ],
      "metadata": {
        "colab": {
          "base_uri": "https://localhost:8080/",
          "height": 35
        },
        "id": "Enp6efprSbey",
        "outputId": "16d3eff7-4c92-42c2-d898-72e71764f6d8"
      },
      "execution_count": 32,
      "outputs": [
        {
          "output_type": "execute_result",
          "data": {
            "text/plain": [
              "'2.2.2'"
            ],
            "application/vnd.google.colaboratory.intrinsic+json": {
              "type": "string"
            }
          },
          "metadata": {},
          "execution_count": 32
        }
      ]
    },
    {
      "cell_type": "code",
      "source": [
        "series = pd.Series([1, 2, 3, 4], index = ['a', 'b', 'c', 'd'])\n",
        "print(series)"
      ],
      "metadata": {
        "colab": {
          "base_uri": "https://localhost:8080/"
        },
        "id": "EzlL_726SkjX",
        "outputId": "d3ae94e5-4db9-4027-84ed-d2027ab5cdc3"
      },
      "execution_count": 37,
      "outputs": [
        {
          "output_type": "stream",
          "name": "stdout",
          "text": [
            "a    1\n",
            "b    2\n",
            "c    3\n",
            "d    4\n",
            "dtype: int64\n"
          ]
        }
      ]
    }
  ]
}